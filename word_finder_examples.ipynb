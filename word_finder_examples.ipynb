{
 "cells": [
  {
   "cell_type": "code",
   "execution_count": 5,
   "metadata": {},
   "outputs": [],
   "source": [
    "from word_finder import WordFinder\n",
    "d = WordFinder()"
   ]
  },
  {
   "cell_type": "code",
   "execution_count": 6,
   "metadata": {},
   "outputs": [
    {
     "data": {
      "text/plain": [
       "['conquter', 'consuter', 'conruter', 'colquter', 'colsuter', 'colruter']"
      ]
     },
     "execution_count": 6,
     "metadata": {},
     "output_type": "execute_result"
    }
   ],
   "source": [
    "# Return all possible replaced words\n",
    "d.replace_letter(\"computer\", {2: \"nl\", 3: \"qrs\"})"
   ]
  },
  {
   "cell_type": "code",
   "execution_count": 7,
   "metadata": {},
   "outputs": [
    {
     "data": {
      "text/plain": [
       "(np.float64(0.014236717413988867), np.float64(1.2711e-05))"
      ]
     },
     "execution_count": 7,
     "metadata": {},
     "output_type": "execute_result"
    }
   ],
   "source": [
    "# Return the product of the word frequency \n",
    "# If a word is not found in the word frequency dictionary, use the lowest frequency\n",
    "d.compute_freq([\"hello\", \"world\"]), d.compute_freq([\"aaabbbccc\"])"
   ]
  },
  {
   "cell_type": "code",
   "execution_count": 8,
   "metadata": {},
   "outputs": [
    {
     "name": "stdout",
     "output_type": "stream",
     "text": [
      "['annual income']\n",
      "['make identity', 'lake identify']\n"
     ]
    }
   ],
   "source": [
    "# Return the top k findings of word frequency product\n",
    "# NOTE: This naive approach ignores linguistic correlation between words\n",
    "# E.g.: In the 2nd example, fake identifty should be the correct answer, but the product of fake and identity is not the highest\n",
    "#       For a better approach, please consider using GPT or a language model that studies word collocations\n",
    "print(d.find_top_k([(\"annual incest\"), (\"annual income\")], 1))\n",
    "print(d.find_top_k([(\"fake identity\"), (\"make identity\"), (\"fake dentify\"), (\"lake identify\")], 2))"
   ]
  },
  {
   "cell_type": "code",
   "execution_count": 9,
   "metadata": {},
   "outputs": [
    {
     "data": {
      "text/plain": [
       "['guitarist', 'unitarist']"
      ]
     },
     "execution_count": 9,
     "metadata": {},
     "output_type": "execute_result"
    }
   ],
   "source": [
    "# Solve crossword\n",
    "d.crossword(\"**itar**t\")"
   ]
  },
  {
   "cell_type": "code",
   "execution_count": 10,
   "metadata": {},
   "outputs": [
    {
     "data": {
      "text/plain": [
       "['author',\n",
       " 'method',\n",
       " 'python',\n",
       " 'pathol',\n",
       " 'fathom',\n",
       " 'mythos',\n",
       " 'pathos',\n",
       " 'hathor',\n",
       " 'lithos',\n",
       " 'pothos']"
      ]
     },
     "execution_count": 10,
     "metadata": {},
     "output_type": "execute_result"
    }
   ],
   "source": [
    "# Whenever get_top_k is used, it relies on a naive approach that computes word frequency. See find_top_k above for its limitations\n",
    "d.crossword(\"**tho*\", get_top_k=10)"
   ]
  },
  {
   "cell_type": "code",
   "execution_count": 11,
   "metadata": {},
   "outputs": [
    {
     "name": "stdout",
     "output_type": "stream",
     "text": [
      "No match found for the given letter_info\n",
      "[]\n",
      "No match found for word of length 11 with letter j in position 10 (0-based)\n",
      "[]\n"
     ]
    }
   ],
   "source": [
    "# Debug examples\n",
    "print(d.crossword(\"x***z***\", debug=True))\n",
    "print(d.crossword(\"**********j\", debug=True))"
   ]
  },
  {
   "cell_type": "code",
   "execution_count": 12,
   "metadata": {},
   "outputs": [
    {
     "data": {
      "text/plain": [
       "['good day',\n",
       " 'g monday',\n",
       " 'grow day',\n",
       " 'good dry',\n",
       " 'glow day',\n",
       " 'grow dry',\n",
       " 'go oddly',\n",
       " 'geoid by',\n",
       " 'g loudly',\n",
       " 'grond by']"
      ]
     },
     "execution_count": 12,
     "metadata": {},
     "output_type": "execute_result"
    }
   ],
   "source": [
    "# Solve crossword made of 2 words\n",
    "d.crossword2(\"g*o*d*y\", get_top_k=10)"
   ]
  },
  {
   "cell_type": "code",
   "execution_count": 13,
   "metadata": {},
   "outputs": [
    {
     "data": {
      "text/plain": [
       "['see you water',\n",
       " 'she you water',\n",
       " 'see you later',\n",
       " 'she you later',\n",
       " 'see you qatar',\n",
       " 'see a curator',\n",
       " 'sue you water',\n",
       " 'she you qatar',\n",
       " 's be educator',\n",
       " 'she a curator']"
      ]
     },
     "execution_count": 13,
     "metadata": {},
     "output_type": "execute_result"
    }
   ],
   "source": [
    "# Solve crossword made of any number of words\n",
    "# NOTE: This can be very slow due to the large search space\n",
    "d.crossword_plus(cipher=\"s*e**u*at*r\", nbr_words=3, get_top_k=10)"
   ]
  },
  {
   "cell_type": "code",
   "execution_count": 14,
   "metadata": {},
   "outputs": [
    {
     "data": {
      "text/plain": [
       "['good day',\n",
       " 'grow day',\n",
       " 'good dry',\n",
       " 'glow day',\n",
       " 'grow dry',\n",
       " 'geog day',\n",
       " 'geol day',\n",
       " 'gros day',\n",
       " 'goog day',\n",
       " 'good dey']"
      ]
     },
     "execution_count": 14,
     "metadata": {},
     "output_type": "execute_result"
    }
   ],
   "source": [
    "# Solve crossword with known space\n",
    "d.crossword_known_space(\"g*o* d*y\", get_top_k=10)"
   ]
  },
  {
   "cell_type": "code",
   "execution_count": 15,
   "metadata": {},
   "outputs": [
    {
     "data": {
      "text/plain": [
       "['keyboard', 'leeboard']"
      ]
     },
     "execution_count": 15,
     "metadata": {},
     "output_type": "execute_result"
    }
   ],
   "source": [
    "# Suppose we have the following information. We can combine replace_letter and crossword to search\n",
    "# 1st digit: k or l or m\n",
    "# 2nd digit: unknown\n",
    "# 3rd digit: a or e or i or o or u or y\n",
    "# 4th digit: unknown\n",
    "# 5th digit: o\n",
    "# 6th digit: unknown\n",
    "# 7th digit: r\n",
    "# 8th digit: unknown\n",
    "grid = d.replace_letter(\"****o*r*\", {0: \"klm\", 2: \"aeiouy\"})\n",
    "d.crossword(grid)"
   ]
  },
  {
   "cell_type": "code",
   "execution_count": 16,
   "metadata": {},
   "outputs": [
    {
     "data": {
      "text/plain": [
       "['ungual incast',\n",
       " 'ungual incept',\n",
       " 'ungual incult',\n",
       " 'ungual incest',\n",
       " 'ungual incant',\n",
       " 'annual incast',\n",
       " 'annual incept',\n",
       " 'annual incult',\n",
       " 'annual incest',\n",
       " 'annual incant',\n",
       " 'ungual incuse',\n",
       " 'ungual incube',\n",
       " 'ungual incise',\n",
       " 'ungual incide',\n",
       " 'ungual incute',\n",
       " 'ungual incage',\n",
       " 'ungual incave',\n",
       " 'ungual incite',\n",
       " 'ungual income',\n",
       " 'ungual incase',\n",
       " 'ungual incede',\n",
       " 'annual incuse',\n",
       " 'annual incube',\n",
       " 'annual incise',\n",
       " 'annual incide',\n",
       " 'annual incute',\n",
       " 'annual incage',\n",
       " 'annual incave',\n",
       " 'annual incite',\n",
       " 'annual income',\n",
       " 'annual incase',\n",
       " 'annual incede',\n",
       " 'ungual lacert',\n",
       " 'annual lacert',\n",
       " 'ungual lacune',\n",
       " 'annual lacune']"
      ]
     },
     "execution_count": 16,
     "metadata": {},
     "output_type": "execute_result"
    }
   ],
   "source": [
    "# It works for other crossword methods too\n",
    "grid = d.replace_letter(\"*n*ual**c***\", {6: \"il\", 7: \"an\", 11: \"et\"})\n",
    "d.crossword2(grid)"
   ]
  },
  {
   "cell_type": "code",
   "execution_count": 17,
   "metadata": {},
   "outputs": [
    {
     "data": {
      "text/plain": [
       "['metro subway',\n",
       " 'metro sunway',\n",
       " 'metro sunray',\n",
       " 'metro sunday',\n",
       " 'metro surnay',\n",
       " 'metra subway',\n",
       " 'metra sunway',\n",
       " 'metra sunray',\n",
       " 'metra sunday',\n",
       " 'metra surnay',\n",
       " 'metre subway',\n",
       " 'metre sunway',\n",
       " 'metre sunray',\n",
       " 'metre sunday',\n",
       " 'metre surnay',\n",
       " 'merry subway',\n",
       " 'merry sunway',\n",
       " 'merry sunray',\n",
       " 'merry sunday',\n",
       " 'merry surnay',\n",
       " 'metro sompay',\n",
       " 'metra sompay',\n",
       " 'metre sompay',\n",
       " 'merry sompay',\n",
       " 'metro towkay',\n",
       " 'metra towkay',\n",
       " 'metre towkay',\n",
       " 'merry towkay',\n",
       " 'lepry subway',\n",
       " 'lepry sunway',\n",
       " 'lepry sunray',\n",
       " 'lepry sunday',\n",
       " 'lepry surnay',\n",
       " 'leora subway',\n",
       " 'leora sunway',\n",
       " 'leora sunray',\n",
       " 'leora sunday',\n",
       " 'leora surnay',\n",
       " 'leary subway',\n",
       " 'leary sunway',\n",
       " 'leary sunray',\n",
       " 'leary sunday',\n",
       " 'leary surnay',\n",
       " 'leers subway',\n",
       " 'leers sunway',\n",
       " 'leers sunray',\n",
       " 'leers sunday',\n",
       " 'leers surnay',\n",
       " 'leery subway',\n",
       " 'leery sunway',\n",
       " 'leery sunray',\n",
       " 'leery sunday',\n",
       " 'leery surnay',\n",
       " 'lehrs subway',\n",
       " 'lehrs sunway',\n",
       " 'lehrs sunray',\n",
       " 'lehrs sunday',\n",
       " 'lehrs surnay',\n",
       " 'lepre subway',\n",
       " 'lepre sunway',\n",
       " 'lepre sunray',\n",
       " 'lepre sunday',\n",
       " 'lepre surnay',\n",
       " 'learn subway',\n",
       " 'learn sunway',\n",
       " 'learn sunray',\n",
       " 'learn sunday',\n",
       " 'learn surnay',\n",
       " 'lears subway',\n",
       " 'lears sunway',\n",
       " 'lears sunray',\n",
       " 'lears sunday',\n",
       " 'lears surnay',\n",
       " 'lepra subway',\n",
       " 'lepra sunway',\n",
       " 'lepra sunray',\n",
       " 'lepra sunday',\n",
       " 'lepra surnay',\n",
       " 'lepry sompay',\n",
       " 'leora sompay',\n",
       " 'leary sompay',\n",
       " 'leers sompay',\n",
       " 'leery sompay',\n",
       " 'lehrs sompay',\n",
       " 'lepre sompay',\n",
       " 'learn sompay',\n",
       " 'lears sompay',\n",
       " 'lepra sompay',\n",
       " 'lepry towkay',\n",
       " 'leora towkay',\n",
       " 'leary towkay',\n",
       " 'leers towkay',\n",
       " 'leery towkay',\n",
       " 'lehrs towkay',\n",
       " 'lepre towkay',\n",
       " 'learn towkay',\n",
       " 'lears towkay',\n",
       " 'lepra towkay']"
      ]
     },
     "execution_count": 17,
     "metadata": {},
     "output_type": "execute_result"
    }
   ],
   "source": [
    "grid = d.replace_letter(\"*e*r* ****ay\", replacement={0: \"lm\", 6: \"st\", 7:\"iou\"})\n",
    "d.crossword_known_space(grid)"
   ]
  },
  {
   "cell_type": "code",
   "execution_count": 18,
   "metadata": {},
   "outputs": [
    {
     "data": {
      "text/plain": [
       "['see you water',\n",
       " 'she you water',\n",
       " 'see you later',\n",
       " 'she you later',\n",
       " 'see you qatar',\n",
       " 'sue you water',\n",
       " 'she you qatar',\n",
       " 'sie you water',\n",
       " 'see you cater',\n",
       " 'see gnu water']"
      ]
     },
     "execution_count": 18,
     "metadata": {},
     "output_type": "execute_result"
    }
   ],
   "source": [
    "d.crossword_plus(cipher=[\"s*e**u*atar\", \"s*e**u*ater\"], nbr_words=3, get_top_k=10)"
   ]
  },
  {
   "cell_type": "code",
   "execution_count": 19,
   "metadata": {},
   "outputs": [
    {
     "data": {
      "text/plain": [
       "(['consarn',\n",
       "  'consent',\n",
       "  'consign',\n",
       "  'consist',\n",
       "  'console',\n",
       "  'consols',\n",
       "  'consomm',\n",
       "  'consort',\n",
       "  'conspue',\n",
       "  'constat',\n",
       "  'conster',\n",
       "  'consuls',\n",
       "  'consult',\n",
       "  'consume',\n",
       "  'consumo',\n",
       "  'consute'],\n",
       " ['consent', 'console', 'consult', 'consist', 'consume'])"
      ]
     },
     "execution_count": 19,
     "metadata": {},
     "output_type": "execute_result"
    }
   ],
   "source": [
    "# Search words that start with a substring\n",
    "d.start_with_substring(substring=\"cons\", word_len=7), d.start_with_substring(substring=\"cons\", word_len=7, get_top_k=5)"
   ]
  },
  {
   "cell_type": "code",
   "execution_count": 20,
   "metadata": {},
   "outputs": [
    {
     "data": {
      "text/plain": [
       "(['canreply',\n",
       "  'centuply',\n",
       "  'madcaply',\n",
       "  'misapply',\n",
       "  'multiply',\n",
       "  'nonapply',\n",
       "  'preapply',\n",
       "  'recomply',\n",
       "  'resupply',\n",
       "  'scrimply',\n",
       "  'sextiply',\n",
       "  'sextuply',\n",
       "  'undeeply',\n",
       "  'underply',\n",
       "  'unsimply',\n",
       "  'unsupply'],\n",
       " ['multiply', 'resupply', 'unsupply', 'unsimply', 'underply'])"
      ]
     },
     "execution_count": 20,
     "metadata": {},
     "output_type": "execute_result"
    }
   ],
   "source": [
    "# Search words that end with a substring\n",
    "d.end_with_substring(substring=\"ply\", word_len=8), d.end_with_substring(substring=\"ply\", word_len=8, get_top_k=5)"
   ]
  },
  {
   "cell_type": "code",
   "execution_count": 21,
   "metadata": {},
   "outputs": [
    {
     "data": {
      "text/plain": [
       "(['avell',\n",
       "  'bella',\n",
       "  'belle',\n",
       "  'belli',\n",
       "  'belly',\n",
       "  'bello',\n",
       "  'bells',\n",
       "  'cella',\n",
       "  'celli',\n",
       "  'cello',\n",
       "  'cells',\n",
       "  'della',\n",
       "  'delly',\n",
       "  'dells',\n",
       "  'dwell',\n",
       "  'ellan',\n",
       "  'ellen',\n",
       "  'fella',\n",
       "  'felly',\n",
       "  'fells',\n",
       "  'gelly',\n",
       "  'helly',\n",
       "  'hello',\n",
       "  'hells',\n",
       "  'yells',\n",
       "  'jelly',\n",
       "  'jello',\n",
       "  'jells',\n",
       "  'kella',\n",
       "  'kelly',\n",
       "  'knell',\n",
       "  'mells',\n",
       "  'nelly',\n",
       "  'odell',\n",
       "  'quell',\n",
       "  'sella',\n",
       "  'selle',\n",
       "  'selli',\n",
       "  'selly',\n",
       "  'sells',\n",
       "  'shell',\n",
       "  'skell',\n",
       "  'smell',\n",
       "  'snell',\n",
       "  'spell',\n",
       "  'stell',\n",
       "  'swell',\n",
       "  'telly',\n",
       "  'tells',\n",
       "  'tellt',\n",
       "  'udell',\n",
       "  'welly',\n",
       "  'wells'],\n",
       " ['cells', 'hello', 'kelly', 'shell', 'tells'])"
      ]
     },
     "execution_count": 21,
     "metadata": {},
     "output_type": "execute_result"
    }
   ],
   "source": [
    "# Search word that contain a substring\n",
    "d.contain_substring(\"ell\", 5), d.contain_substring(\"ell\", 5, get_top_k=5)"
   ]
  },
  {
   "cell_type": "code",
   "execution_count": 23,
   "metadata": {},
   "outputs": [
    {
     "data": {
      "text/plain": [
       "['program']"
      ]
     },
     "execution_count": 23,
     "metadata": {},
     "output_type": "execute_result"
    }
   ],
   "source": [
    "# An improved version of anagram\n",
    "d.anagram('mpoagrr')"
   ]
  },
  {
   "cell_type": "code",
   "execution_count": 24,
   "metadata": {},
   "outputs": [
    {
     "data": {
      "text/plain": [
       "['program']"
      ]
     },
     "execution_count": 24,
     "metadata": {},
     "output_type": "execute_result"
    }
   ],
   "source": [
    "d.anagram('mpoagrr', prefix_len=2)"
   ]
  },
  {
   "cell_type": "code",
   "execution_count": 25,
   "metadata": {},
   "outputs": [
    {
     "data": {
      "text/plain": [
       "['program']"
      ]
     },
     "execution_count": 25,
     "metadata": {},
     "output_type": "execute_result"
    }
   ],
   "source": [
    "d.anagram('mpoagrr', prefix_len=3)"
   ]
  },
  {
   "cell_type": "code",
   "execution_count": 26,
   "metadata": {},
   "outputs": [
    {
     "data": {
      "text/plain": [
       "['pop music',\n",
       " 'music pop',\n",
       " 'opp music',\n",
       " 'music opp',\n",
       " 'pius comp',\n",
       " 'comp pius',\n",
       " 'mips coup',\n",
       " 'coup mips',\n",
       " 'pop musci',\n",
       " 'musci pop',\n",
       " 'opium cps',\n",
       " 'cps opium',\n",
       " 'pc opiums',\n",
       " 'opiums pc',\n",
       " 'opium csp',\n",
       " 'csp opium',\n",
       " 'pious pcm',\n",
       " 'pcm pious',\n",
       " 'pious cpm',\n",
       " 'cpm pious']"
      ]
     },
     "execution_count": 26,
     "metadata": {},
     "output_type": "execute_result"
    }
   ],
   "source": [
    "# An anagram with 2 words\n",
    "d.anagram2(\"uicpmops\", get_top_k=20)"
   ]
  },
  {
   "cell_type": "code",
   "execution_count": 27,
   "metadata": {},
   "outputs": [
    {
     "data": {
      "text/plain": [
       "['black',\n",
       " 'enter',\n",
       " 'later',\n",
       " 'union',\n",
       " 'rated',\n",
       " 'dance',\n",
       " 'latin',\n",
       " 'rapid',\n",
       " 'blank',\n",
       " 'inner']"
      ]
     },
     "execution_count": 27,
     "metadata": {},
     "output_type": "execute_result"
    }
   ],
   "source": [
    "# Extract 1 letter from a list of words\n",
    "d.extract_letter([\"bluebird\", \"lunatic\", \"anticipate\", \"notice\", \"kindergarten\"], get_top_k=10)"
   ]
  },
  {
   "cell_type": "code",
   "execution_count": 28,
   "metadata": {},
   "outputs": [
    {
     "data": {
      "text/plain": [
       "['black',\n",
       " 'rates',\n",
       " 'enter',\n",
       " 'until',\n",
       " 'later',\n",
       " 'lines',\n",
       " 'union',\n",
       " 'rated',\n",
       " 'units',\n",
       " 'dance',\n",
       " 'dates',\n",
       " 'latin',\n",
       " 'intel',\n",
       " 'ratio',\n",
       " 'lunch',\n",
       " 'rapid',\n",
       " 'dutch',\n",
       " 'blank',\n",
       " 'inner',\n",
       " 'blind']"
      ]
     },
     "execution_count": 28,
     "metadata": {},
     "output_type": "execute_result"
    }
   ],
   "source": [
    "# Use abcdefghijklmnopqrstuvwxyz for any word that is unknown\n",
    "d.extract_letter([\"bluebird\", \"lunatic\", \"anticipate\", \"notice\", \"abcdefghijklmnopqrstuvwxyz\"], get_top_k=20)"
   ]
  },
  {
   "cell_type": "code",
   "execution_count": null,
   "metadata": {},
   "outputs": [],
   "source": []
  }
 ],
 "metadata": {
  "kernelspec": {
   "display_name": "Python (myenv)",
   "language": "python",
   "name": "myenv"
  },
  "language_info": {
   "codemirror_mode": {
    "name": "ipython",
    "version": 3
   },
   "file_extension": ".py",
   "mimetype": "text/x-python",
   "name": "python",
   "nbconvert_exporter": "python",
   "pygments_lexer": "ipython3",
   "version": "3.9.6"
  }
 },
 "nbformat": 4,
 "nbformat_minor": 2
}
