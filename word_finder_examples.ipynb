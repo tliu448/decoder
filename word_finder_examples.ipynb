{
 "cells": [
  {
   "cell_type": "code",
   "execution_count": 1,
   "metadata": {},
   "outputs": [],
   "source": [
    "from word_finder import WordFinder\n",
    "d = WordFinder()"
   ]
  },
  {
   "cell_type": "code",
   "execution_count": 2,
   "metadata": {},
   "outputs": [
    {
     "data": {
      "text/plain": [
       "['racer',\n",
       " 'trace',\n",
       " 'arace',\n",
       " 'brace',\n",
       " 'raced',\n",
       " 'rance',\n",
       " 'rache',\n",
       " 'grace',\n",
       " 'races']"
      ]
     },
     "execution_count": 2,
     "metadata": {},
     "output_type": "execute_result"
    }
   ],
   "source": [
    "# Add 1 letter to make a new word\n",
    "d.add_1_letter(\"race\")"
   ]
  },
  {
   "cell_type": "code",
   "execution_count": 3,
   "metadata": {},
   "outputs": [
    {
     "data": {
      "text/plain": [
       "['tace', 'race', 'trac']"
      ]
     },
     "execution_count": 3,
     "metadata": {},
     "output_type": "execute_result"
    }
   ],
   "source": [
    "# Remove 1 letter to make a new word\n",
    "d.remove_1_letter(\"trace\")"
   ]
  },
  {
   "cell_type": "code",
   "execution_count": 4,
   "metadata": {},
   "outputs": [
    {
     "data": {
      "text/plain": [
       "['flay',\n",
       " 'plan',\n",
       " 'ploy',\n",
       " 'pray',\n",
       " 'plat',\n",
       " 'slay',\n",
       " 'alay',\n",
       " 'plak',\n",
       " 'plap',\n",
       " 'blay',\n",
       " 'play',\n",
       " 'clay']"
      ]
     },
     "execution_count": 4,
     "metadata": {},
     "output_type": "execute_result"
    }
   ],
   "source": [
    "# Replace 1 letter to make a new word\n",
    "d.replace_1_letter(\"play\")"
   ]
  },
  {
   "cell_type": "code",
   "execution_count": 5,
   "metadata": {},
   "outputs": [
    {
     "data": {
      "text/plain": [
       "['colruter', 'colquter', 'colsuter', 'conruter', 'conquter', 'consuter']"
      ]
     },
     "execution_count": 5,
     "metadata": {},
     "output_type": "execute_result"
    }
   ],
   "source": [
    "# Return all possible replaced words\n",
    "d.replace_letters(\"computer\", {2: \"nl\", 3: \"qrs\"})"
   ]
  },
  {
   "cell_type": "code",
   "execution_count": 6,
   "metadata": {},
   "outputs": [
    {
     "data": {
      "text/plain": [
       "(np.float64(0.014236717413988867), np.float64(1.2711e-05))"
      ]
     },
     "execution_count": 6,
     "metadata": {},
     "output_type": "execute_result"
    }
   ],
   "source": [
    "# Return the product of the word frequency \n",
    "# If a word is not found in the word frequency dictionary, use the lowest frequency\n",
    "d.compute_freq([\"hello\", \"world\"]), d.compute_freq([\"aaabbbccc\"])"
   ]
  },
  {
   "cell_type": "code",
   "execution_count": 7,
   "metadata": {},
   "outputs": [
    {
     "name": "stdout",
     "output_type": "stream",
     "text": [
      "['annual income']\n",
      "['make identity', 'lake identify']\n"
     ]
    }
   ],
   "source": [
    "# Return the top k findings of word frequency product\n",
    "# NOTE: This naive approach ignores linguistic correlation between words\n",
    "# E.g.: In the 2nd example, fake identity should be the correct answer, but the product of fake and identity is not the highest\n",
    "#       For a better approach, please consider using GPT or a language model that studies word collocations\n",
    "print(d.find_top_k([(\"annual incest\"), (\"annual income\")], 1))\n",
    "print(d.find_top_k([(\"fake identity\"), (\"make identity\"), (\"fake identify\"), (\"lake identify\")], 2))"
   ]
  },
  {
   "cell_type": "code",
   "execution_count": 8,
   "metadata": {},
   "outputs": [
    {
     "name": "stdout",
     "output_type": "stream",
     "text": [
      "country music\n"
     ]
    }
   ],
   "source": [
    "# However in the case where the solution is made of 2 nouns, there is a chance that it exists in the 10k noun-noun dictionary\n",
    "grid = d.replace_letters(\"co**t** **s**\", {2: \"nu\", 3: \"ailn\", 5: \"ehr\", 6: \"aeiouy\", 8: \"mn\", 9: \"iou\", 11: \"aei\", 12: \"cl\"})\n",
    "for word in grid:\n",
    "    if word in d.noun_noun_list:\n",
    "        print(word)"
   ]
  },
  {
   "cell_type": "code",
   "execution_count": 9,
   "metadata": {},
   "outputs": [
    {
     "data": {
      "text/plain": [
       "['unitarist', 'guitarist']"
      ]
     },
     "execution_count": 9,
     "metadata": {},
     "output_type": "execute_result"
    }
   ],
   "source": [
    "# Solve crossword\n",
    "d.crossword(\"**itar**t\")"
   ]
  },
  {
   "cell_type": "code",
   "execution_count": 10,
   "metadata": {},
   "outputs": [
    {
     "data": {
      "text/plain": [
       "['author',\n",
       " 'method',\n",
       " 'python',\n",
       " 'pathol',\n",
       " 'fathom',\n",
       " 'mythos',\n",
       " 'pathos',\n",
       " 'hathor',\n",
       " 'lithos',\n",
       " 'pothos']"
      ]
     },
     "execution_count": 10,
     "metadata": {},
     "output_type": "execute_result"
    }
   ],
   "source": [
    "# Whenever get_top_k is used, it relies on a naive approach that computes word frequency. See find_top_k above for its limitations\n",
    "d.crossword(\"**tho*\", get_top_k=10)"
   ]
  },
  {
   "cell_type": "code",
   "execution_count": 11,
   "metadata": {},
   "outputs": [
    {
     "name": "stdout",
     "output_type": "stream",
     "text": [
      "No match found for the given letter_info\n",
      "[]\n",
      "No match found for word of length 11 with letter j in position 10 (0-based)\n",
      "[]\n"
     ]
    }
   ],
   "source": [
    "# Debug examples\n",
    "print(d.crossword(\"x***z***\", debug=True))\n",
    "print(d.crossword(\"**********j\", debug=True))"
   ]
  },
  {
   "cell_type": "code",
   "execution_count": 12,
   "metadata": {},
   "outputs": [
    {
     "data": {
      "text/plain": [
       "['good day',\n",
       " 'g monday',\n",
       " 'grow day',\n",
       " 'good dry',\n",
       " 'glow day',\n",
       " 'grow dry',\n",
       " 'go oddly',\n",
       " 'geoid by',\n",
       " 'g loudly',\n",
       " 'grond by']"
      ]
     },
     "execution_count": 12,
     "metadata": {},
     "output_type": "execute_result"
    }
   ],
   "source": [
    "# Solve crossword made of 2 words\n",
    "d.crossword2(\"g*o*d*y\", get_top_k=10)"
   ]
  },
  {
   "cell_type": "code",
   "execution_count": 13,
   "metadata": {},
   "outputs": [
    {
     "data": {
      "text/plain": [
       "['see you water',\n",
       " 'she you water',\n",
       " 'see you later',\n",
       " 'she you later',\n",
       " 'see you qatar',\n",
       " 'see a curator',\n",
       " 'sue you water',\n",
       " 'she you qatar',\n",
       " 's be educator',\n",
       " 'she a curator']"
      ]
     },
     "execution_count": 13,
     "metadata": {},
     "output_type": "execute_result"
    }
   ],
   "source": [
    "# Solve crossword made of any number of words\n",
    "# NOTE: This can be very slow due to the large search space\n",
    "d.crossword_plus(cipher=\"s*e**u*at*r\", nbr_words=3, get_top_k=10)"
   ]
  },
  {
   "cell_type": "code",
   "execution_count": 14,
   "metadata": {},
   "outputs": [
    {
     "data": {
      "text/plain": [
       "['good day',\n",
       " 'grow day',\n",
       " 'good dry',\n",
       " 'glow day',\n",
       " 'grow dry',\n",
       " 'geog day',\n",
       " 'geol day',\n",
       " 'gros day',\n",
       " 'goog day',\n",
       " 'good dey']"
      ]
     },
     "execution_count": 14,
     "metadata": {},
     "output_type": "execute_result"
    }
   ],
   "source": [
    "# Solve crossword with known space\n",
    "d.crossword_known_space(\"g*o* d*y\", get_top_k=10)"
   ]
  },
  {
   "cell_type": "code",
   "execution_count": 15,
   "metadata": {},
   "outputs": [
    {
     "data": {
      "text/plain": [
       "['leeboard', 'keyboard']"
      ]
     },
     "execution_count": 15,
     "metadata": {},
     "output_type": "execute_result"
    }
   ],
   "source": [
    "# Suppose we have the following information. We can combine replace_letters and crossword to search\n",
    "# 1st digit: k or l or m\n",
    "# 2nd digit: unknown\n",
    "# 3rd digit: a or e or i or o or u or y\n",
    "# 4th digit: unknown\n",
    "# 5th digit: o\n",
    "# 6th digit: unknown\n",
    "# 7th digit: r\n",
    "# 8th digit: unknown\n",
    "grid = d.replace_letters(\"****o*r*\", {0: \"klm\", 2: \"aeiouy\"})\n",
    "d.crossword(grid)"
   ]
  },
  {
   "cell_type": "code",
   "execution_count": 16,
   "metadata": {},
   "outputs": [
    {
     "data": {
      "text/plain": [
       "['annual lacune',\n",
       " 'ungual lacune',\n",
       " 'annual lacert',\n",
       " 'ungual lacert',\n",
       " 'annual incite',\n",
       " 'annual incuse',\n",
       " 'annual incute',\n",
       " 'annual incide',\n",
       " 'annual income',\n",
       " 'annual incise',\n",
       " 'annual incave',\n",
       " 'annual incube',\n",
       " 'annual incage',\n",
       " 'annual incase',\n",
       " 'annual incede',\n",
       " 'ungual incite',\n",
       " 'ungual incuse',\n",
       " 'ungual incute',\n",
       " 'ungual incide',\n",
       " 'ungual income',\n",
       " 'ungual incise',\n",
       " 'ungual incave',\n",
       " 'ungual incube',\n",
       " 'ungual incage',\n",
       " 'ungual incase',\n",
       " 'ungual incede',\n",
       " 'annual incant',\n",
       " 'annual incept',\n",
       " 'annual incast',\n",
       " 'annual incult',\n",
       " 'annual incest',\n",
       " 'ungual incant',\n",
       " 'ungual incept',\n",
       " 'ungual incast',\n",
       " 'ungual incult',\n",
       " 'ungual incest']"
      ]
     },
     "execution_count": 16,
     "metadata": {},
     "output_type": "execute_result"
    }
   ],
   "source": [
    "# It works for other crossword methods too\n",
    "grid = d.replace_letters(\"*n*ual**c***\", {6: \"il\", 7: \"an\", 11: \"et\"})\n",
    "d.crossword2(grid)"
   ]
  },
  {
   "cell_type": "code",
   "execution_count": 17,
   "metadata": {},
   "outputs": [
    {
     "data": {
      "text/plain": [
       "['leers sompay',\n",
       " 'lehrs sompay',\n",
       " 'leary sompay',\n",
       " 'leora sompay',\n",
       " 'learn sompay',\n",
       " 'lepre sompay',\n",
       " 'leery sompay',\n",
       " 'lepra sompay',\n",
       " 'lepry sompay',\n",
       " 'lears sompay',\n",
       " 'leers sunway',\n",
       " 'leers subway',\n",
       " 'leers sunday',\n",
       " 'leers sunray',\n",
       " 'leers surnay',\n",
       " 'lehrs sunway',\n",
       " 'lehrs subway',\n",
       " 'lehrs sunday',\n",
       " 'lehrs sunray',\n",
       " 'lehrs surnay',\n",
       " 'leary sunway',\n",
       " 'leary subway',\n",
       " 'leary sunday',\n",
       " 'leary sunray',\n",
       " 'leary surnay',\n",
       " 'leora sunway',\n",
       " 'leora subway',\n",
       " 'leora sunday',\n",
       " 'leora sunray',\n",
       " 'leora surnay',\n",
       " 'learn sunway',\n",
       " 'learn subway',\n",
       " 'learn sunday',\n",
       " 'learn sunray',\n",
       " 'learn surnay',\n",
       " 'lepre sunway',\n",
       " 'lepre subway',\n",
       " 'lepre sunday',\n",
       " 'lepre sunray',\n",
       " 'lepre surnay',\n",
       " 'leery sunway',\n",
       " 'leery subway',\n",
       " 'leery sunday',\n",
       " 'leery sunray',\n",
       " 'leery surnay',\n",
       " 'lepra sunway',\n",
       " 'lepra subway',\n",
       " 'lepra sunday',\n",
       " 'lepra sunray',\n",
       " 'lepra surnay',\n",
       " 'lepry sunway',\n",
       " 'lepry subway',\n",
       " 'lepry sunday',\n",
       " 'lepry sunray',\n",
       " 'lepry surnay',\n",
       " 'lears sunway',\n",
       " 'lears subway',\n",
       " 'lears sunday',\n",
       " 'lears sunray',\n",
       " 'lears surnay',\n",
       " 'leers towkay',\n",
       " 'lehrs towkay',\n",
       " 'leary towkay',\n",
       " 'leora towkay',\n",
       " 'learn towkay',\n",
       " 'lepre towkay',\n",
       " 'leery towkay',\n",
       " 'lepra towkay',\n",
       " 'lepry towkay',\n",
       " 'lears towkay',\n",
       " 'metro sompay',\n",
       " 'metre sompay',\n",
       " 'metra sompay',\n",
       " 'merry sompay',\n",
       " 'metro sunway',\n",
       " 'metro subway',\n",
       " 'metro sunday',\n",
       " 'metro sunray',\n",
       " 'metro surnay',\n",
       " 'metre sunway',\n",
       " 'metre subway',\n",
       " 'metre sunday',\n",
       " 'metre sunray',\n",
       " 'metre surnay',\n",
       " 'metra sunway',\n",
       " 'metra subway',\n",
       " 'metra sunday',\n",
       " 'metra sunray',\n",
       " 'metra surnay',\n",
       " 'merry sunway',\n",
       " 'merry subway',\n",
       " 'merry sunday',\n",
       " 'merry sunray',\n",
       " 'merry surnay',\n",
       " 'metro towkay',\n",
       " 'metre towkay',\n",
       " 'metra towkay',\n",
       " 'merry towkay']"
      ]
     },
     "execution_count": 17,
     "metadata": {},
     "output_type": "execute_result"
    }
   ],
   "source": [
    "grid = d.replace_letters(\"*e*r* ****ay\", replacement={0: \"lm\", 6: \"st\", 7:\"iou\"})\n",
    "d.crossword_known_space(grid)"
   ]
  },
  {
   "cell_type": "code",
   "execution_count": 18,
   "metadata": {},
   "outputs": [
    {
     "data": {
      "text/plain": [
       "['see you water',\n",
       " 'she you water',\n",
       " 'see you later',\n",
       " 'she you later',\n",
       " 'see you qatar',\n",
       " 'sue you water',\n",
       " 'she you qatar',\n",
       " 'sie you water',\n",
       " 'see you cater',\n",
       " 'see gnu water']"
      ]
     },
     "execution_count": 18,
     "metadata": {},
     "output_type": "execute_result"
    }
   ],
   "source": [
    "d.crossword_plus(cipher=[\"s*e**u*atar\", \"s*e**u*ater\"], nbr_words=3, get_top_k=10)"
   ]
  },
  {
   "cell_type": "code",
   "execution_count": 19,
   "metadata": {},
   "outputs": [
    {
     "data": {
      "text/plain": [
       "(['consarn',\n",
       "  'consent',\n",
       "  'consign',\n",
       "  'consist',\n",
       "  'console',\n",
       "  'consols',\n",
       "  'consomm',\n",
       "  'consort',\n",
       "  'conspue',\n",
       "  'constat',\n",
       "  'conster',\n",
       "  'consuls',\n",
       "  'consult',\n",
       "  'consume',\n",
       "  'consumo',\n",
       "  'consute'],\n",
       " ['consent', 'console', 'consult', 'consist', 'consume'])"
      ]
     },
     "execution_count": 19,
     "metadata": {},
     "output_type": "execute_result"
    }
   ],
   "source": [
    "# Search words that start with a substring\n",
    "d.start_with_substring(substring=\"cons\", word_len=7), d.start_with_substring(substring=\"cons\", word_len=7, get_top_k=5)"
   ]
  },
  {
   "cell_type": "code",
   "execution_count": 20,
   "metadata": {},
   "outputs": [
    {
     "data": {
      "text/plain": [
       "(['canreply',\n",
       "  'centuply',\n",
       "  'madcaply',\n",
       "  'misapply',\n",
       "  'multiply',\n",
       "  'nonapply',\n",
       "  'preapply',\n",
       "  'recomply',\n",
       "  'resupply',\n",
       "  'scrimply',\n",
       "  'sextiply',\n",
       "  'sextuply',\n",
       "  'undeeply',\n",
       "  'underply',\n",
       "  'unsimply',\n",
       "  'unsupply'],\n",
       " ['multiply', 'resupply', 'unsupply', 'unsimply', 'underply'])"
      ]
     },
     "execution_count": 20,
     "metadata": {},
     "output_type": "execute_result"
    }
   ],
   "source": [
    "# Search words that end with a substring\n",
    "d.end_with_substring(substring=\"ply\", word_len=8), d.end_with_substring(substring=\"ply\", word_len=8, get_top_k=5)"
   ]
  },
  {
   "cell_type": "code",
   "execution_count": 21,
   "metadata": {},
   "outputs": [
    {
     "data": {
      "text/plain": [
       "(['avell',\n",
       "  'bella',\n",
       "  'belle',\n",
       "  'belli',\n",
       "  'belly',\n",
       "  'bello',\n",
       "  'bells',\n",
       "  'cella',\n",
       "  'celli',\n",
       "  'cello',\n",
       "  'cells',\n",
       "  'della',\n",
       "  'delly',\n",
       "  'dells',\n",
       "  'dwell',\n",
       "  'ellan',\n",
       "  'ellen',\n",
       "  'fella',\n",
       "  'felly',\n",
       "  'fells',\n",
       "  'gelly',\n",
       "  'helly',\n",
       "  'hello',\n",
       "  'hells',\n",
       "  'yells',\n",
       "  'jelly',\n",
       "  'jello',\n",
       "  'jells',\n",
       "  'kella',\n",
       "  'kelly',\n",
       "  'knell',\n",
       "  'mells',\n",
       "  'nelly',\n",
       "  'odell',\n",
       "  'quell',\n",
       "  'sella',\n",
       "  'selle',\n",
       "  'selli',\n",
       "  'selly',\n",
       "  'sells',\n",
       "  'shell',\n",
       "  'skell',\n",
       "  'smell',\n",
       "  'snell',\n",
       "  'spell',\n",
       "  'stell',\n",
       "  'swell',\n",
       "  'telly',\n",
       "  'tells',\n",
       "  'tellt',\n",
       "  'udell',\n",
       "  'welly',\n",
       "  'wells'],\n",
       " ['cells', 'hello', 'kelly', 'shell', 'tells'])"
      ]
     },
     "execution_count": 21,
     "metadata": {},
     "output_type": "execute_result"
    }
   ],
   "source": [
    "# Search word that contain a substring\n",
    "d.contain_substring(\"ell\", 5), d.contain_substring(\"ell\", 5, get_top_k=5)"
   ]
  },
  {
   "cell_type": "code",
   "execution_count": 22,
   "metadata": {},
   "outputs": [
    {
     "data": {
      "text/plain": [
       "['program']"
      ]
     },
     "execution_count": 22,
     "metadata": {},
     "output_type": "execute_result"
    }
   ],
   "source": [
    "# Solve anagram\n",
    "d.anagram('mpoagrr')"
   ]
  },
  {
   "cell_type": "code",
   "execution_count": 23,
   "metadata": {},
   "outputs": [
    {
     "data": {
      "text/plain": [
       "['pop music',\n",
       " 'music pop',\n",
       " 'opp music',\n",
       " 'music opp',\n",
       " 'pius comp',\n",
       " 'comp pius',\n",
       " 'mips coup',\n",
       " 'coup mips',\n",
       " 'pop musci',\n",
       " 'musci pop',\n",
       " 'opium cps',\n",
       " 'cps opium',\n",
       " 'pc opiums',\n",
       " 'opiums pc',\n",
       " 'opium csp',\n",
       " 'csp opium',\n",
       " 'pious pcm',\n",
       " 'pcm pious',\n",
       " 'pious cpm',\n",
       " 'cpm pious']"
      ]
     },
     "execution_count": 23,
     "metadata": {},
     "output_type": "execute_result"
    }
   ],
   "source": [
    "# Solve anagram with 2 words\n",
    "d.anagram2(\"uicpmops\", get_top_k=20)"
   ]
  },
  {
   "cell_type": "code",
   "execution_count": 24,
   "metadata": {},
   "outputs": [
    {
     "name": "stdout",
     "output_type": "stream",
     "text": [
      "tinoopst ['spittoon']\n",
      "einoopst []\n",
      "rinoopst ['portions', 'positron', 'notropis', 'sorption']\n",
      "cinoopst []\n",
      "sinoopst ['opsonist']\n",
      "vinoopst []\n",
      "uinoopst []\n",
      "winoopst []\n",
      "xinoopst []\n",
      "kinoopst []\n",
      "oinoopst []\n",
      "jinoopst []\n",
      "ainoopst []\n",
      "ninoopst []\n",
      "yinoopst []\n",
      "iinoopst ['position', 'sopition']\n",
      "qinoopst []\n",
      "pinoopst []\n",
      "zinoopst []\n",
      "binoopst []\n",
      "linoopst []\n",
      "dinoopst []\n",
      "hinoopst []\n",
      "ginoopst ['stooping']\n",
      "finoopst []\n",
      "minoopst ['tompions']\n"
     ]
    }
   ],
   "source": [
    "# Consider the following problem\n",
    "# The solution is made of 8 letters. 7 of the known letters are i, n, o, o, p, s, t and 1 is unknown. The order of these letters is also unknown\n",
    "# We can use replace_letters and anagram to solve it\n",
    "grid = d.replace_letters(\"*inoopst\", replacement={0: \"abcdefghijklmnopqrstuvwxyz\"})\n",
    "for x in grid:\n",
    "    print(x, d.anagram(x))"
   ]
  },
  {
   "cell_type": "code",
   "execution_count": 25,
   "metadata": {},
   "outputs": [
    {
     "data": {
      "text/plain": [
       "['black',\n",
       " 'enter',\n",
       " 'later',\n",
       " 'union',\n",
       " 'rated',\n",
       " 'dance',\n",
       " 'latin',\n",
       " 'rapid',\n",
       " 'blank',\n",
       " 'inner']"
      ]
     },
     "execution_count": 25,
     "metadata": {},
     "output_type": "execute_result"
    }
   ],
   "source": [
    "# Extract 1 letter from a list of words\n",
    "d.extract_letter([\"bluebird\", \"lunatic\", \"anticipate\", \"notice\", \"kindergarten\"], get_top_k=10)"
   ]
  },
  {
   "cell_type": "code",
   "execution_count": 26,
   "metadata": {},
   "outputs": [
    {
     "data": {
      "text/plain": [
       "['black',\n",
       " 'rates',\n",
       " 'enter',\n",
       " 'until',\n",
       " 'later',\n",
       " 'lines',\n",
       " 'union',\n",
       " 'rated',\n",
       " 'units',\n",
       " 'dance',\n",
       " 'dates',\n",
       " 'latin',\n",
       " 'intel',\n",
       " 'ratio',\n",
       " 'lunch',\n",
       " 'rapid',\n",
       " 'dutch',\n",
       " 'blank',\n",
       " 'inner',\n",
       " 'blind']"
      ]
     },
     "execution_count": 26,
     "metadata": {},
     "output_type": "execute_result"
    }
   ],
   "source": [
    "# Use abcdefghijklmnopqrstuvwxyz for any word that is unknown\n",
    "d.extract_letter([\"bluebird\", \"lunatic\", \"anticipate\", \"notice\", \"abcdefghijklmnopqrstuvwxyz\"], get_top_k=20)"
   ]
  },
  {
   "cell_type": "code",
   "execution_count": 27,
   "metadata": {},
   "outputs": [
    {
     "name": "stdout",
     "output_type": "stream",
     "text": [
      "dot\n",
      "era\n",
      "see\n"
     ]
    }
   ],
   "source": [
    "# Extract letter from a fix position\n",
    "print(d.extract_letter_fix_position([\"desks\", \"orange\", \"tame\"]))\n",
    "print(d.extract_letter_fix_position([\"desks\", \"orange\", \"tame\"], 1))\n",
    "print(d.extract_letter_fix_position([\"desks\", \"orange\", \"tame\"], -1))"
   ]
  }
 ],
 "metadata": {
  "kernelspec": {
   "display_name": "Python (myenv)",
   "language": "python",
   "name": "myenv"
  },
  "language_info": {
   "codemirror_mode": {
    "name": "ipython",
    "version": 3
   },
   "file_extension": ".py",
   "mimetype": "text/x-python",
   "name": "python",
   "nbconvert_exporter": "python",
   "pygments_lexer": "ipython3",
   "version": "3.9.6"
  }
 },
 "nbformat": 4,
 "nbformat_minor": 2
}
