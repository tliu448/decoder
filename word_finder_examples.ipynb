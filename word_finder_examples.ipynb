{
 "cells": [
  {
   "cell_type": "code",
   "execution_count": 1,
   "metadata": {},
   "outputs": [],
   "source": [
    "from word_finder import WordFinder\n",
    "d = WordFinder()"
   ]
  },
  {
   "cell_type": "code",
   "execution_count": null,
   "metadata": {},
   "outputs": [],
   "source": [
    "# Return all possible replaced words\n",
    "d.replace_letter(\"computer\", {2: \"nl\", 3: \"qrs\"})"
   ]
  },
  {
   "cell_type": "code",
   "execution_count": null,
   "metadata": {},
   "outputs": [],
   "source": [
    "# Return the product of the word frequency \n",
    "# If a word is not found in the word frequency dictionary, use the lowest frequency\n",
    "d.compute_freq([\"hello\", \"world\"]), d.compute_freq([\"aaabbbccc\"])"
   ]
  },
  {
   "cell_type": "code",
   "execution_count": null,
   "metadata": {},
   "outputs": [],
   "source": [
    "# Return the top k findings of word frequency product\n",
    "# NOTE: This naive approach ignores linguistic correlation between words\n",
    "# E.g.: In the 2nd example, fake identifty should be the correct answer, but the product of fake and identity is not the highest\n",
    "#       For a better approach, please consider using GPT or a language model that studies word collocations\n",
    "print(d.find_top_k([(\"annual incest\"), (\"annual income\")], 1))\n",
    "print(d.find_top_k([(\"fake identity\"), (\"make identity\"), (\"fake dentify\"), (\"lake identify\")], 2))"
   ]
  },
  {
   "cell_type": "code",
   "execution_count": null,
   "metadata": {},
   "outputs": [],
   "source": [
    "# Solve crossword\n",
    "d.crossword(\"**itar**t\")"
   ]
  },
  {
   "cell_type": "code",
   "execution_count": null,
   "metadata": {},
   "outputs": [],
   "source": [
    "# Whenever get_top_k is used, it relies on a naive approach that computes word frequency. See find_top_k above for its limitations\n",
    "d.crossword(\"**tho*\", get_top_k=10)"
   ]
  },
  {
   "cell_type": "code",
   "execution_count": null,
   "metadata": {},
   "outputs": [],
   "source": [
    "# Debug examples\n",
    "print(d.crossword(\"x***z***\", debug=True))\n",
    "print(d.crossword(\"**********j\", debug=True))"
   ]
  },
  {
   "cell_type": "code",
   "execution_count": null,
   "metadata": {},
   "outputs": [],
   "source": [
    "# Solve crossword made of 2 words\n",
    "d.crossword2(\"g*o*d*y\", get_top_k=10)"
   ]
  },
  {
   "cell_type": "code",
   "execution_count": null,
   "metadata": {},
   "outputs": [],
   "source": [
    "# Solve crossword made of any number of words\n",
    "# NOTE: This can be very slow due to the large search space\n",
    "d.crossword_plus(cipher=\"s*e**u*at*r\", nbr_words=3, get_top_k=10)"
   ]
  },
  {
   "cell_type": "code",
   "execution_count": null,
   "metadata": {},
   "outputs": [],
   "source": [
    "# Solve crossword with known space\n",
    "d.crossword_known_space(\"g*o* d*y\", get_top_k=10)"
   ]
  },
  {
   "cell_type": "code",
   "execution_count": null,
   "metadata": {},
   "outputs": [],
   "source": [
    "# Suppose we have the following information. We can combine replace_letter and crossword to search\n",
    "# 1st digit: k or l or m\n",
    "# 2nd digit: unknown\n",
    "# 3rd digit: a or e or i or o or u or y\n",
    "# 4th digit: unknown\n",
    "# 5th digit: o\n",
    "# 6th digit: unknown\n",
    "# 7th digit: r\n",
    "# 8th digit: unknown\n",
    "grid = d.replace_letter(\"****o*r*\", {0: \"klm\", 2: \"aeiouy\"})\n",
    "d.crossword(grid)"
   ]
  },
  {
   "cell_type": "code",
   "execution_count": null,
   "metadata": {},
   "outputs": [],
   "source": [
    "# It works for other crossword methods too\n",
    "grid = d.replace_letter(\"*n*ual**c***\", {6: \"il\", 7: \"an\", 11: \"et\"})\n",
    "d.crossword2(grid)"
   ]
  },
  {
   "cell_type": "code",
   "execution_count": null,
   "metadata": {},
   "outputs": [],
   "source": [
    "grid = d.replace_letter(\"*e*r* ****ay\", replacement={0: \"lm\", 6: \"st\", 7:\"iou\"})\n",
    "d.crossword_known_space(grid)"
   ]
  },
  {
   "cell_type": "code",
   "execution_count": null,
   "metadata": {},
   "outputs": [],
   "source": [
    "d.crossword_plus(cipher=[\"s*e**u*atar\", \"s*e**u*ater\"], nbr_words=3, get_top_k=10)"
   ]
  },
  {
   "cell_type": "code",
   "execution_count": null,
   "metadata": {},
   "outputs": [],
   "source": [
    "# Search words that start with a substring\n",
    "d.start_with_substring(substring=\"cons\", word_len=7), d.start_with_substring(substring=\"cons\", word_len=7, get_top_k=5)"
   ]
  },
  {
   "cell_type": "code",
   "execution_count": null,
   "metadata": {},
   "outputs": [],
   "source": [
    "# Search words that end with a substring\n",
    "d.end_with_substring(substring=\"ply\", word_len=8), d.end_with_substring(substring=\"ply\", word_len=8, get_top_k=5)"
   ]
  },
  {
   "cell_type": "code",
   "execution_count": null,
   "metadata": {},
   "outputs": [],
   "source": [
    "# Search word that contain a substring\n",
    "d.contain_substring(\"ell\", 5), d.contain_substring(\"ell\", 5, get_top_k=5)"
   ]
  },
  {
   "cell_type": "code",
   "execution_count": null,
   "metadata": {},
   "outputs": [],
   "source": [
    "# A brute force version of anagram that can be really slow\n",
    "d.anagram_brute_force('mpoagrr')"
   ]
  },
  {
   "cell_type": "code",
   "execution_count": null,
   "metadata": {},
   "outputs": [],
   "source": [
    "# An improved version of anagram\n",
    "d.anagram('mpoagrr')"
   ]
  },
  {
   "cell_type": "code",
   "execution_count": null,
   "metadata": {},
   "outputs": [],
   "source": [
    "d.anagram('mpoagrr', prefix_len=2)"
   ]
  },
  {
   "cell_type": "code",
   "execution_count": null,
   "metadata": {},
   "outputs": [],
   "source": [
    "d.anagram('mpoagrr', prefix_len=3)"
   ]
  },
  {
   "cell_type": "code",
   "execution_count": null,
   "metadata": {},
   "outputs": [],
   "source": [
    "# An anagram with 2 words\n",
    "d.anagram2(\"uicpmops\", get_top_k=20)"
   ]
  },
  {
   "cell_type": "code",
   "execution_count": 2,
   "metadata": {},
   "outputs": [
    {
     "data": {
      "text/plain": [
       "['black',\n",
       " 'enter',\n",
       " 'later',\n",
       " 'union',\n",
       " 'rated',\n",
       " 'dance',\n",
       " 'latin',\n",
       " 'rapid',\n",
       " 'blank',\n",
       " 'inner']"
      ]
     },
     "execution_count": 2,
     "metadata": {},
     "output_type": "execute_result"
    }
   ],
   "source": [
    "# Extract 1 letter from a list of words\n",
    "d.extract_letter([\"bluebird\", \"lunatic\", \"anticipate\", \"notice\", \"kindergarten\"], get_top_k=10)"
   ]
  },
  {
   "cell_type": "code",
   "execution_count": 4,
   "metadata": {},
   "outputs": [
    {
     "data": {
      "text/plain": [
       "['black',\n",
       " 'rates',\n",
       " 'enter',\n",
       " 'until',\n",
       " 'later',\n",
       " 'lines',\n",
       " 'union',\n",
       " 'rated',\n",
       " 'units',\n",
       " 'dance',\n",
       " 'dates',\n",
       " 'latin',\n",
       " 'intel',\n",
       " 'ratio',\n",
       " 'lunch',\n",
       " 'rapid',\n",
       " 'dutch',\n",
       " 'blank',\n",
       " 'inner',\n",
       " 'blind']"
      ]
     },
     "execution_count": 4,
     "metadata": {},
     "output_type": "execute_result"
    }
   ],
   "source": [
    "# Use abcdefghijklmnopqrstuvwxyz for any word that is unknown\n",
    "d.extract_letter([\"bluebird\", \"lunatic\", \"anticipate\", \"notice\", \"abcdefghijklmnopqrstuvwxyz\"], get_top_k=20)"
   ]
  },
  {
   "cell_type": "code",
   "execution_count": null,
   "metadata": {},
   "outputs": [],
   "source": []
  }
 ],
 "metadata": {
  "kernelspec": {
   "display_name": "Python (myenv)",
   "language": "python",
   "name": "myenv"
  },
  "language_info": {
   "codemirror_mode": {
    "name": "ipython",
    "version": 3
   },
   "file_extension": ".py",
   "mimetype": "text/x-python",
   "name": "python",
   "nbconvert_exporter": "python",
   "pygments_lexer": "ipython3",
   "version": "3.9.6"
  }
 },
 "nbformat": 4,
 "nbformat_minor": 2
}
