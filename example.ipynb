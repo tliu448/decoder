{
 "cells": [
  {
   "cell_type": "code",
   "execution_count": 1,
   "metadata": {},
   "outputs": [],
   "source": [
    "from decoder import Decoder\n",
    "# prepare_en_dict()\n",
    "d = Decoder()"
   ]
  },
  {
   "cell_type": "code",
   "execution_count": 2,
   "metadata": {},
   "outputs": [
    {
     "data": {
      "text/plain": [
       "(True, True, True)"
      ]
     },
     "execution_count": 2,
     "metadata": {},
     "output_type": "execute_result"
    }
   ],
   "source": [
    "# validate \n",
    "d.validate(['AABBA', \"AAABB\"], 'bacon1_ab'), d.validate(['15', '105'], 'periodic'), d.validate(['abc', 'cba', 'bbb'], 'base3_abc')"
   ]
  },
  {
   "cell_type": "code",
   "execution_count": 3,
   "metadata": {},
   "outputs": [
    {
     "data": {
      "text/plain": [
       "(['base2_ab', 'base2_0_ab', 'bacon'], ['ascii_upper_base10', 'periodic'])"
      ]
     },
     "execution_count": 3,
     "metadata": {},
     "output_type": "execute_result"
    }
   ],
   "source": [
    "# analyze\n",
    "d.analyze(['AAAAB', 'AAABB']), d.analyze(['66', '77', '88'])"
   ]
  },
  {
   "cell_type": "code",
   "execution_count": 4,
   "metadata": {},
   "outputs": [
    {
     "data": {
      "text/plain": [
       "'omghhe'"
      ]
     },
     "execution_count": 4,
     "metadata": {},
     "output_type": "execute_result"
    }
   ],
   "source": [
    "# decode periodic table\n",
    "d.decode_periodic(['8', '12', '1', '2'])"
   ]
  },
  {
   "cell_type": "code",
   "execution_count": 5,
   "metadata": {},
   "outputs": [
    {
     "data": {
      "text/plain": [
       "('yunb', 'junb or iunb')"
      ]
     },
     "execution_count": 5,
     "metadata": {},
     "output_type": "execute_result"
    }
   ],
   "source": [
    "# decode polybius\n",
    "d.decode_polybius(['54', '45', '33', '12']), d.decode_polybius(['24', '45', '33', '12'])"
   ]
  },
  {
   "cell_type": "code",
   "execution_count": 6,
   "metadata": {},
   "outputs": [
    {
     "data": {
      "text/plain": [
       "'kh or jh or wy'"
      ]
     },
     "execution_count": 6,
     "metadata": {},
     "output_type": "execute_result"
    }
   ],
   "source": [
    "# decode bacon\n",
    "d.decode_bacon(['abaab', 'aabbb'])"
   ]
  },
  {
   "cell_type": "code",
   "execution_count": 7,
   "metadata": {},
   "outputs": [
    {
     "data": {
      "text/plain": [
       "('name',\n",
       " 'sale',\n",
       " 'fly',\n",
       " 'zoo',\n",
       " 'love',\n",
       " 'ban',\n",
       " 'yeah',\n",
       " 'cut',\n",
       " 'qwerty',\n",
       " 'dca',\n",
       " 'buzz')"
      ]
     },
     "execution_count": 7,
     "metadata": {},
     "output_type": "execute_result"
    }
   ],
   "source": [
    "# decode \n",
    "(\n",
    "    d.decode(['14', '1', '13', '5'], 'base10'), \n",
    "    d.decode(['10011', '1', '1100', '101'], 'base2'),\n",
    "    d.decode(['20', '110', '221'], 'base3'),\n",
    "    d.decode(['32', '17', '17'], 'base8'),\n",
    "    d.decode(['c', 'F', '16', '5'], 'base16'),\n",
    "    d.decode(['98', '97', '110'], 'ascii_lower_base10'),\n",
    "    d.decode(['b', 'v', 'z', 's'], 'atbash'),\n",
    "    d.decode(['baba', 'AAb', 'b'], 'morse_ab'),\n",
    "    d.decode(['a', 'b', 'c', 'd', 'e', 'f'], 'qwerty2'),\n",
    "    d.decode(['bbbaa', 'bbbab', 'bbbbb'], 'bacon'),\n",
    "    d.decode(['28', '47', '52', '52'], 'modulo')\n",
    ")"
   ]
  },
  {
   "cell_type": "code",
   "execution_count": 8,
   "metadata": {},
   "outputs": [
    {
     "data": {
      "text/plain": [
       "{'base10_0': 'aceiq', 'base16_0': 'aceiw'}"
      ]
     },
     "execution_count": 8,
     "metadata": {},
     "output_type": "execute_result"
    }
   ],
   "source": [
    "# decode all\n",
    "d.decode_all(['0', '2', '4', '8', '16'])"
   ]
  },
  {
   "cell_type": "code",
   "execution_count": 9,
   "metadata": {},
   "outputs": [
    {
     "data": {
      "text/plain": [
       "'zabcd'"
      ]
     },
     "execution_count": 9,
     "metadata": {},
     "output_type": "execute_result"
    }
   ],
   "source": [
    "# caesar\n",
    "d.caesar('xyzab', 2)"
   ]
  },
  {
   "cell_type": "code",
   "execution_count": 10,
   "metadata": {},
   "outputs": [
    {
     "data": {
      "text/plain": [
       "{0: 'xyzab',\n",
       " 1: 'yzabc',\n",
       " 2: 'zabcd',\n",
       " 3: 'abcde',\n",
       " 4: 'bcdef',\n",
       " 5: 'cdefg',\n",
       " 6: 'defgh',\n",
       " 7: 'efghi',\n",
       " 8: 'fghij',\n",
       " 9: 'ghijk',\n",
       " 10: 'hijkl',\n",
       " 11: 'ijklm',\n",
       " 12: 'jklmn',\n",
       " 13: 'klmno',\n",
       " 14: 'lmnop',\n",
       " 15: 'mnopq',\n",
       " 16: 'nopqr',\n",
       " 17: 'opqrs',\n",
       " 18: 'pqrst',\n",
       " 19: 'qrstu',\n",
       " 20: 'rstuv',\n",
       " 21: 'stuvw',\n",
       " 22: 'tuvwx',\n",
       " 23: 'uvwxy',\n",
       " 24: 'vwxyz',\n",
       " 25: 'wxyza'}"
      ]
     },
     "execution_count": 10,
     "metadata": {},
     "output_type": "execute_result"
    }
   ],
   "source": [
    "# caesar all\n",
    "d.caesar_all('xyzab')"
   ]
  },
  {
   "cell_type": "code",
   "execution_count": 11,
   "metadata": {},
   "outputs": [
    {
     "data": {
      "text/plain": [
       "('hhhkkk', 'hjlkmo')"
      ]
     },
     "execution_count": 11,
     "metadata": {},
     "output_type": "execute_result"
    }
   ],
   "source": [
    "# vigenere\n",
    "d.vigenere('hijklm', 'abc'), d.vigenere('hijklm', 'abc', True)"
   ]
  },
  {
   "cell_type": "code",
   "execution_count": 12,
   "metadata": {},
   "outputs": [
    {
     "data": {
      "text/plain": [
       "'top'"
      ]
     },
     "execution_count": 12,
     "metadata": {},
     "output_type": "execute_result"
    }
   ],
   "source": [
    "# reverse\n",
    "d.reverse('pot')"
   ]
  },
  {
   "cell_type": "code",
   "execution_count": 13,
   "metadata": {},
   "outputs": [
    {
     "data": {
      "text/plain": [
       "'please'"
      ]
     },
     "execution_count": 13,
     "metadata": {},
     "output_type": "execute_result"
    }
   ],
   "source": [
    "# scytale\n",
    "d.scytale('palsee', 2)"
   ]
  },
  {
   "cell_type": "code",
   "execution_count": 14,
   "metadata": {},
   "outputs": [
    {
     "data": {
      "text/plain": [
       "{2: 'please', 3: 'psaele', 4: 'peaels', 5: 'pealse'}"
      ]
     },
     "execution_count": 14,
     "metadata": {},
     "output_type": "execute_result"
    }
   ],
   "source": [
    "# scytale all\n",
    "d.scytale_all('palsee')"
   ]
  },
  {
   "cell_type": "code",
   "execution_count": 15,
   "metadata": {},
   "outputs": [
    {
     "data": {
      "text/plain": [
       "(np.float64(0.014236717413988867), np.float64(1.2711e-05))"
      ]
     },
     "execution_count": 15,
     "metadata": {},
     "output_type": "execute_result"
    }
   ],
   "source": [
    "d.compute_freq([\"hello\", \"world\"]), d.compute_freq([\"aaabbbccc\"])"
   ]
  },
  {
   "cell_type": "code",
   "execution_count": 16,
   "metadata": {},
   "outputs": [
    {
     "data": {
      "text/plain": [
       "['give credit', 'give direct']"
      ]
     },
     "execution_count": 16,
     "metadata": {},
     "output_type": "execute_result"
    }
   ],
   "source": [
    "d.find_top_k([(\"give\", \"credit\"), (\"give\", \"direct\"), (\"give\", \"ditrec\")], 2)"
   ]
  },
  {
   "cell_type": "code",
   "execution_count": 17,
   "metadata": {},
   "outputs": [
    {
     "data": {
      "text/plain": [
       "['guitarist']"
      ]
     },
     "execution_count": 17,
     "metadata": {},
     "output_type": "execute_result"
    }
   ],
   "source": [
    "d.crossword(\"g*itar**t\")"
   ]
  },
  {
   "cell_type": "code",
   "execution_count": 18,
   "metadata": {},
   "outputs": [
    {
     "data": {
      "text/plain": [
       "['author',\n",
       " 'method',\n",
       " 'python',\n",
       " 'pathol',\n",
       " 'fathom',\n",
       " 'mythos',\n",
       " 'pathos',\n",
       " 'hathor',\n",
       " 'lithos',\n",
       " 'pothos']"
      ]
     },
     "execution_count": 18,
     "metadata": {},
     "output_type": "execute_result"
    }
   ],
   "source": [
    "d.crossword(\"**tho*\", get_top_k=10)"
   ]
  },
  {
   "cell_type": "code",
   "execution_count": 19,
   "metadata": {},
   "outputs": [
    {
     "name": "stdout",
     "output_type": "stream",
     "text": [
      "No match found for the given letter_info\n"
     ]
    },
    {
     "data": {
      "text/plain": [
       "[]"
      ]
     },
     "execution_count": 19,
     "metadata": {},
     "output_type": "execute_result"
    }
   ],
   "source": [
    "d.crossword(\"x***z***\", debug=True)"
   ]
  },
  {
   "cell_type": "code",
   "execution_count": 20,
   "metadata": {},
   "outputs": [
    {
     "name": "stdout",
     "output_type": "stream",
     "text": [
      "No match found for word of length 11 with letter j in position 10 (0-based)\n"
     ]
    },
    {
     "data": {
      "text/plain": [
       "[]"
      ]
     },
     "execution_count": 20,
     "metadata": {},
     "output_type": "execute_result"
    }
   ],
   "source": [
    "d.crossword(\"**********j\", debug=True)"
   ]
  },
  {
   "cell_type": "code",
   "execution_count": 21,
   "metadata": {},
   "outputs": [
    {
     "data": {
      "text/plain": [
       "['aa',\n",
       " 'ab',\n",
       " 'ac',\n",
       " 'ad',\n",
       " 'ae',\n",
       " 'af',\n",
       " 'ag',\n",
       " 'ah',\n",
       " 'ai',\n",
       " 'ay',\n",
       " 'ak',\n",
       " 'al',\n",
       " 'am',\n",
       " 'an',\n",
       " 'ao',\n",
       " 'ap',\n",
       " 'aq',\n",
       " 'ar',\n",
       " 'as',\n",
       " 'at',\n",
       " 'av',\n",
       " 'aw',\n",
       " 'ax',\n",
       " 'az',\n",
       " 'ba',\n",
       " 'bb',\n",
       " 'bd',\n",
       " 'be',\n",
       " 'bf',\n",
       " 'bg',\n",
       " 'bi',\n",
       " 'by',\n",
       " 'bk',\n",
       " 'bl',\n",
       " 'bm',\n",
       " 'bn',\n",
       " 'bo',\n",
       " 'bp',\n",
       " 'br',\n",
       " 'bs',\n",
       " 'bt',\n",
       " 'bu',\n",
       " 'bv',\n",
       " 'bx',\n",
       " 'bz',\n",
       " 'ca',\n",
       " 'cb',\n",
       " 'cc',\n",
       " 'cd',\n",
       " 'ce',\n",
       " 'cf',\n",
       " 'cg',\n",
       " 'ch',\n",
       " 'cy',\n",
       " 'ck',\n",
       " 'cl',\n",
       " 'cm',\n",
       " 'co',\n",
       " 'cp',\n",
       " 'cq',\n",
       " 'cr',\n",
       " 'cs',\n",
       " 'ct',\n",
       " 'cu',\n",
       " 'cv',\n",
       " 'da',\n",
       " 'db',\n",
       " 'dc',\n",
       " 'dd',\n",
       " 'de',\n",
       " 'dg',\n",
       " 'di',\n",
       " 'dy',\n",
       " 'dj',\n",
       " 'dk',\n",
       " 'dl',\n",
       " 'dm',\n",
       " 'dn',\n",
       " 'do',\n",
       " 'dp',\n",
       " 'dr',\n",
       " 'ds',\n",
       " 'dt',\n",
       " 'du',\n",
       " 'dx',\n",
       " 'dz',\n",
       " 'ea',\n",
       " 'ec',\n",
       " 'ed',\n",
       " 'ee',\n",
       " 'ef',\n",
       " 'eg',\n",
       " 'eh',\n",
       " 'ey',\n",
       " 'el',\n",
       " 'em',\n",
       " 'en',\n",
       " 'eo',\n",
       " 'ep',\n",
       " 'eq',\n",
       " 'er',\n",
       " 'es',\n",
       " 'et',\n",
       " 'eu',\n",
       " 'ew',\n",
       " 'ex',\n",
       " 'fa',\n",
       " 'fb',\n",
       " 'fc',\n",
       " 'fe',\n",
       " 'ff',\n",
       " 'fg',\n",
       " 'fi',\n",
       " 'fy',\n",
       " 'fl',\n",
       " 'fm',\n",
       " 'fn',\n",
       " 'fo',\n",
       " 'fp',\n",
       " 'fr',\n",
       " 'fs',\n",
       " 'ft',\n",
       " 'fu',\n",
       " 'fv',\n",
       " 'fw',\n",
       " 'fz',\n",
       " 'ga',\n",
       " 'gd',\n",
       " 'ge',\n",
       " 'gi',\n",
       " 'gl',\n",
       " 'gm',\n",
       " 'gn',\n",
       " 'go',\n",
       " 'gp',\n",
       " 'gr',\n",
       " 'gs',\n",
       " 'gt',\n",
       " 'gu',\n",
       " 'gv',\n",
       " 'ha',\n",
       " 'hb',\n",
       " 'hd',\n",
       " 'he',\n",
       " 'hf',\n",
       " 'hg',\n",
       " 'hi',\n",
       " 'hy',\n",
       " 'hl',\n",
       " 'hm',\n",
       " 'ho',\n",
       " 'hp',\n",
       " 'hq',\n",
       " 'hr',\n",
       " 'hs',\n",
       " 'ht',\n",
       " 'hu',\n",
       " 'hv',\n",
       " 'hw',\n",
       " 'ia',\n",
       " 'ya',\n",
       " 'ib',\n",
       " 'ic',\n",
       " 'id',\n",
       " 'yd',\n",
       " 'ie',\n",
       " 'ye',\n",
       " 'if',\n",
       " 'ii',\n",
       " 'yi',\n",
       " 'ik',\n",
       " 'il',\n",
       " 'im',\n",
       " 'ym',\n",
       " 'in',\n",
       " 'yn',\n",
       " 'io',\n",
       " 'yo',\n",
       " 'iq',\n",
       " 'ir',\n",
       " 'yr',\n",
       " 'is',\n",
       " 'ys',\n",
       " 'it',\n",
       " 'yt',\n",
       " 'iv',\n",
       " 'iw',\n",
       " 'ix',\n",
       " 'ja',\n",
       " 'jg',\n",
       " 'ji',\n",
       " 'jo',\n",
       " 'jr',\n",
       " 'js',\n",
       " 'jt',\n",
       " 'ju',\n",
       " 'ka',\n",
       " 'kb',\n",
       " 'kc',\n",
       " 'kg',\n",
       " 'ki',\n",
       " 'ky',\n",
       " 'kl',\n",
       " 'km',\n",
       " 'kn',\n",
       " 'ko',\n",
       " 'kr',\n",
       " 'kt',\n",
       " 'kv',\n",
       " 'kw',\n",
       " 'la',\n",
       " 'lb',\n",
       " 'lc',\n",
       " 'ld',\n",
       " 'le',\n",
       " 'lf',\n",
       " 'lg',\n",
       " 'lh',\n",
       " 'li',\n",
       " 'ly',\n",
       " 'll',\n",
       " 'lm',\n",
       " 'ln',\n",
       " 'lo',\n",
       " 'lp',\n",
       " 'lr',\n",
       " 'ls',\n",
       " 'lt',\n",
       " 'lu',\n",
       " 'lv',\n",
       " 'lx',\n",
       " 'ma',\n",
       " 'mb',\n",
       " 'mc',\n",
       " 'md',\n",
       " 'me',\n",
       " 'mf',\n",
       " 'mg',\n",
       " 'mh',\n",
       " 'mi',\n",
       " 'my',\n",
       " 'mk',\n",
       " 'ml',\n",
       " 'mm',\n",
       " 'mn',\n",
       " 'mo',\n",
       " 'mp',\n",
       " 'mr',\n",
       " 'ms',\n",
       " 'mt',\n",
       " 'mu',\n",
       " 'mv',\n",
       " 'mw',\n",
       " 'na',\n",
       " 'nb',\n",
       " 'nd',\n",
       " 'ne',\n",
       " 'ng',\n",
       " 'ni',\n",
       " 'ny',\n",
       " 'nj',\n",
       " 'nl',\n",
       " 'nm',\n",
       " 'no',\n",
       " 'np',\n",
       " 'nr',\n",
       " 'ns',\n",
       " 'nt',\n",
       " 'nu',\n",
       " 'nv',\n",
       " 'ob',\n",
       " 'oc',\n",
       " 'od',\n",
       " 'oe',\n",
       " 'of',\n",
       " 'og',\n",
       " 'oh',\n",
       " 'oy',\n",
       " 'ok',\n",
       " 'ol',\n",
       " 'om',\n",
       " 'on',\n",
       " 'op',\n",
       " 'or',\n",
       " 'os',\n",
       " 'ot',\n",
       " 'ow',\n",
       " 'ox',\n",
       " 'oz',\n",
       " 'pa',\n",
       " 'pc',\n",
       " 'pd',\n",
       " 'pe',\n",
       " 'pf',\n",
       " 'pg',\n",
       " 'ph',\n",
       " 'pi',\n",
       " 'pk',\n",
       " 'pl',\n",
       " 'pm',\n",
       " 'po',\n",
       " 'pp',\n",
       " 'pq',\n",
       " 'pr',\n",
       " 'ps',\n",
       " 'pt',\n",
       " 'pu',\n",
       " 'qe',\n",
       " 'qh',\n",
       " 'qy',\n",
       " 'ql',\n",
       " 'qm',\n",
       " 'qn',\n",
       " 'qp',\n",
       " 'qr',\n",
       " 'qs',\n",
       " 'qt',\n",
       " 'qu',\n",
       " 'qv',\n",
       " 'ra',\n",
       " 'rc',\n",
       " 'rd',\n",
       " 're',\n",
       " 'rf',\n",
       " 'rg',\n",
       " 'rh',\n",
       " 'rm',\n",
       " 'rn',\n",
       " 'ro',\n",
       " 'rs',\n",
       " 'rt',\n",
       " 'sa',\n",
       " 'sb',\n",
       " 'sc',\n",
       " 'sd',\n",
       " 'se',\n",
       " 'sf',\n",
       " 'sg',\n",
       " 'sh',\n",
       " 'si',\n",
       " 'sk',\n",
       " 'sl',\n",
       " 'sm',\n",
       " 'sn',\n",
       " 'so',\n",
       " 'sp',\n",
       " 'sq',\n",
       " 'sr',\n",
       " 'ss',\n",
       " 'st',\n",
       " 'su',\n",
       " 'sv',\n",
       " 'sw',\n",
       " 'ta',\n",
       " 'tb',\n",
       " 'tc',\n",
       " 'td',\n",
       " 'te',\n",
       " 'tg',\n",
       " 'th',\n",
       " 'ti',\n",
       " 'tk',\n",
       " 'tm',\n",
       " 'tn',\n",
       " 'to',\n",
       " 'tp',\n",
       " 'tr',\n",
       " 'ts',\n",
       " 'tu',\n",
       " 'tv',\n",
       " 'tx',\n",
       " 'uc',\n",
       " 'ud',\n",
       " 'ug',\n",
       " 'uh',\n",
       " 'ui',\n",
       " 'um',\n",
       " 'un',\n",
       " 'up',\n",
       " 'ur',\n",
       " 'us',\n",
       " 'ut',\n",
       " 'ux',\n",
       " 'va',\n",
       " 'vb',\n",
       " 'vc',\n",
       " 'vd',\n",
       " 'vg',\n",
       " 'vi',\n",
       " 'vl',\n",
       " 'vo',\n",
       " 'vp',\n",
       " 'vr',\n",
       " 'vs',\n",
       " 'vt',\n",
       " 'vu',\n",
       " 'vv',\n",
       " 'wa',\n",
       " 'wb',\n",
       " 'wc',\n",
       " 'wd',\n",
       " 'we',\n",
       " 'wf',\n",
       " 'wg',\n",
       " 'wh',\n",
       " 'wi',\n",
       " 'wy',\n",
       " 'wk',\n",
       " 'wl',\n",
       " 'wm',\n",
       " 'wo',\n",
       " 'wr',\n",
       " 'ws',\n",
       " 'wt',\n",
       " 'wu',\n",
       " 'xc',\n",
       " 'xd',\n",
       " 'xi',\n",
       " 'xr',\n",
       " 'xs',\n",
       " 'xu',\n",
       " 'xw',\n",
       " 'xx',\n",
       " 'za',\n",
       " 'zn',\n",
       " 'zo',\n",
       " 'zs']"
      ]
     },
     "execution_count": 21,
     "metadata": {},
     "output_type": "execute_result"
    }
   ],
   "source": [
    "d.crossword(\"**\")"
   ]
  },
  {
   "cell_type": "code",
   "execution_count": 22,
   "metadata": {},
   "outputs": [
    {
     "data": {
      "text/plain": [
       "['good day',\n",
       " 'g monday',\n",
       " 'grow day',\n",
       " 'good dry',\n",
       " 'glow day',\n",
       " 'grow dry',\n",
       " 'go oddly',\n",
       " 'geoid by',\n",
       " 'g loudly',\n",
       " 'grond by']"
      ]
     },
     "execution_count": 22,
     "metadata": {},
     "output_type": "execute_result"
    }
   ],
   "source": [
    "d.crossword2(\"g*o*d*y\", get_top_k=10)"
   ]
  },
  {
   "cell_type": "code",
   "execution_count": 23,
   "metadata": {},
   "outputs": [
    {
     "data": {
      "text/plain": [
       "['see you water',\n",
       " 'she you water',\n",
       " 'see you later',\n",
       " 'she you later',\n",
       " 'see you qatar',\n",
       " 'see a curator',\n",
       " 'sue you water',\n",
       " 'she you qatar',\n",
       " 's be educator',\n",
       " 'she a curator',\n",
       " 'sie you water',\n",
       " 'see you cater',\n",
       " 'see gnu water',\n",
       " 'see you eater',\n",
       " 'see i curator',\n",
       " 'speed u water',\n",
       " 'see you gator',\n",
       " 's be emulator',\n",
       " 'see you mater',\n",
       " 's we educator']"
      ]
     },
     "execution_count": 23,
     "metadata": {},
     "output_type": "execute_result"
    }
   ],
   "source": [
    "d.crossword_plus(\"s*e**u*at*r\", nbr_words=3, get_top_k=20)"
   ]
  },
  {
   "cell_type": "code",
   "execution_count": 24,
   "metadata": {},
   "outputs": [
    {
     "data": {
      "text/plain": [
       "['good day',\n",
       " 'grow day',\n",
       " 'good dry',\n",
       " 'glow day',\n",
       " 'grow dry',\n",
       " 'geog day',\n",
       " 'geol day',\n",
       " 'gros day',\n",
       " 'goog day',\n",
       " 'good dey']"
      ]
     },
     "execution_count": 24,
     "metadata": {},
     "output_type": "execute_result"
    }
   ],
   "source": [
    "d.crossword_known_space(\"g*o* d*y\", 10)"
   ]
  },
  {
   "cell_type": "code",
   "execution_count": 25,
   "metadata": {},
   "outputs": [
    {
     "data": {
      "text/plain": [
       "['consomm',\n",
       " 'consent',\n",
       " 'consute',\n",
       " 'console',\n",
       " 'consarn',\n",
       " 'conster',\n",
       " 'constat',\n",
       " 'consult',\n",
       " 'consumo',\n",
       " 'consort',\n",
       " 'consume',\n",
       " 'consuls',\n",
       " 'consign',\n",
       " 'conspue',\n",
       " 'consist',\n",
       " 'consols']"
      ]
     },
     "execution_count": 25,
     "metadata": {},
     "output_type": "execute_result"
    }
   ],
   "source": [
    "d.prefix_search(prefix=\"cons\", word_len=7)"
   ]
  },
  {
   "cell_type": "code",
   "execution_count": 26,
   "metadata": {},
   "outputs": [
    {
     "data": {
      "text/plain": [
       "['pepla', 'apple', 'appel']"
      ]
     },
     "execution_count": 26,
     "metadata": {},
     "output_type": "execute_result"
    }
   ],
   "source": [
    "d.anagram('pplea')"
   ]
  },
  {
   "cell_type": "code",
   "execution_count": 27,
   "metadata": {},
   "outputs": [
    {
     "data": {
      "text/plain": [
       "['pop music',\n",
       " 'music pop',\n",
       " 'opp music',\n",
       " 'music opp',\n",
       " 'pius comp',\n",
       " 'comp pius',\n",
       " 'mips coup',\n",
       " 'coup mips',\n",
       " 'pop musci',\n",
       " 'musci pop',\n",
       " 'opium cps',\n",
       " 'cps opium',\n",
       " 'pc opiums',\n",
       " 'opiums pc',\n",
       " 'opium csp',\n",
       " 'csp opium',\n",
       " 'pious pcm',\n",
       " 'pcm pious',\n",
       " 'pious cpm',\n",
       " 'cpm pious']"
      ]
     },
     "execution_count": 27,
     "metadata": {},
     "output_type": "execute_result"
    }
   ],
   "source": [
    "d.anagram2(\"uicpmops\", get_top_k=20)"
   ]
  },
  {
   "cell_type": "code",
   "execution_count": null,
   "metadata": {},
   "outputs": [],
   "source": []
  }
 ],
 "metadata": {
  "kernelspec": {
   "display_name": "Python (myenv)",
   "language": "python",
   "name": "myenv"
  },
  "language_info": {
   "codemirror_mode": {
    "name": "ipython",
    "version": 3
   },
   "file_extension": ".py",
   "mimetype": "text/x-python",
   "name": "python",
   "nbconvert_exporter": "python",
   "pygments_lexer": "ipython3",
   "version": "3.9.6"
  },
  "orig_nbformat": 4,
  "vscode": {
   "interpreter": {
    "hash": "02778d0a229e0c45653dff8efb479a7081ae12c0b33ff8262777f56514ee3898"
   }
  }
 },
 "nbformat": 4,
 "nbformat_minor": 2
}
