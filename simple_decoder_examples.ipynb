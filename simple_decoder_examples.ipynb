{
 "cells": [
  {
   "cell_type": "code",
   "execution_count": 2,
   "metadata": {},
   "outputs": [],
   "source": [
    "from simple_decoder import SimpleDecoder\n",
    "d = SimpleDecoder()"
   ]
  },
  {
   "cell_type": "code",
   "execution_count": 3,
   "metadata": {},
   "outputs": [
    {
     "data": {
      "text/plain": [
       "(True, True, True)"
      ]
     },
     "execution_count": 3,
     "metadata": {},
     "output_type": "execute_result"
    }
   ],
   "source": [
    "# validate \n",
    "d.validate(['AABBA', \"AAABB\"], 'bacon1_ab'), d.validate(['15', '105'], 'periodic'), d.validate(['abc', 'cba', 'bbb'], 'base3_abc')"
   ]
  },
  {
   "cell_type": "code",
   "execution_count": 4,
   "metadata": {},
   "outputs": [
    {
     "data": {
      "text/plain": [
       "(['base2_ab', 'base2_0_ab', 'bacon'], ['ascii_upper_base10', 'periodic'])"
      ]
     },
     "execution_count": 4,
     "metadata": {},
     "output_type": "execute_result"
    }
   ],
   "source": [
    "# analyze\n",
    "d.analyze(['AAAAB', 'AAABB']), d.analyze(['66', '77', '88'])"
   ]
  },
  {
   "cell_type": "code",
   "execution_count": 5,
   "metadata": {},
   "outputs": [
    {
     "data": {
      "text/plain": [
       "'omghhe'"
      ]
     },
     "execution_count": 5,
     "metadata": {},
     "output_type": "execute_result"
    }
   ],
   "source": [
    "# decode periodic table\n",
    "d.decode_periodic(['8', '12', '1', '2'])"
   ]
  },
  {
   "cell_type": "code",
   "execution_count": 6,
   "metadata": {},
   "outputs": [
    {
     "data": {
      "text/plain": [
       "('yunb', 'junb or iunb')"
      ]
     },
     "execution_count": 6,
     "metadata": {},
     "output_type": "execute_result"
    }
   ],
   "source": [
    "# decode polybius\n",
    "d.decode_polybius(['54', '45', '33', '12']), d.decode_polybius(['24', '45', '33', '12'])"
   ]
  },
  {
   "cell_type": "code",
   "execution_count": 7,
   "metadata": {},
   "outputs": [
    {
     "data": {
      "text/plain": [
       "'wy or jh or kh'"
      ]
     },
     "execution_count": 7,
     "metadata": {},
     "output_type": "execute_result"
    }
   ],
   "source": [
    "# decode bacon\n",
    "d.decode_bacon(['abaab', 'aabbb'])"
   ]
  },
  {
   "cell_type": "code",
   "execution_count": 8,
   "metadata": {},
   "outputs": [
    {
     "data": {
      "text/plain": [
       "('name',\n",
       " 'sale',\n",
       " 'fly',\n",
       " 'zoo',\n",
       " 'love',\n",
       " 'ban',\n",
       " 'yeah',\n",
       " 'cut',\n",
       " 'qwerty',\n",
       " 'dca',\n",
       " 'buzz')"
      ]
     },
     "execution_count": 8,
     "metadata": {},
     "output_type": "execute_result"
    }
   ],
   "source": [
    "# decode \n",
    "(\n",
    "    d.decode(['14', '1', '13', '5'], 'base10'), \n",
    "    d.decode(['10011', '1', '1100', '101'], 'base2'),\n",
    "    d.decode(['20', '110', '221'], 'base3'),\n",
    "    d.decode(['32', '17', '17'], 'base8'),\n",
    "    d.decode(['c', 'F', '16', '5'], 'base16'),\n",
    "    d.decode(['98', '97', '110'], 'ascii_lower_base10'),\n",
    "    d.decode(['b', 'v', 'z', 's'], 'atbash'),\n",
    "    d.decode(['baba', 'AAb', 'b'], 'morse_ab'),\n",
    "    d.decode(['a', 'b', 'c', 'd', 'e', 'f'], 'qwerty2'),\n",
    "    d.decode(['bbbaa', 'bbbab', 'bbbbb'], 'bacon'),\n",
    "    d.decode(['28', '47', '52', '52'], 'modulo')\n",
    ")"
   ]
  },
  {
   "cell_type": "code",
   "execution_count": 9,
   "metadata": {},
   "outputs": [
    {
     "data": {
      "text/plain": [
       "{'base10_0': 'aceiq', 'base16_0': 'aceiw'}"
      ]
     },
     "execution_count": 9,
     "metadata": {},
     "output_type": "execute_result"
    }
   ],
   "source": [
    "# decode all\n",
    "d.decode_all(['0', '2', '4', '8', '16'])"
   ]
  },
  {
   "cell_type": "code",
   "execution_count": 10,
   "metadata": {},
   "outputs": [
    {
     "data": {
      "text/plain": [
       "'zabcd'"
      ]
     },
     "execution_count": 10,
     "metadata": {},
     "output_type": "execute_result"
    }
   ],
   "source": [
    "# caesar\n",
    "d.caesar('xyzab', 2)"
   ]
  },
  {
   "cell_type": "code",
   "execution_count": 11,
   "metadata": {},
   "outputs": [
    {
     "data": {
      "text/plain": [
       "{0: 'xyzab',\n",
       " 1: 'yzabc',\n",
       " 2: 'zabcd',\n",
       " 3: 'abcde',\n",
       " 4: 'bcdef',\n",
       " 5: 'cdefg',\n",
       " 6: 'defgh',\n",
       " 7: 'efghi',\n",
       " 8: 'fghij',\n",
       " 9: 'ghijk',\n",
       " 10: 'hijkl',\n",
       " 11: 'ijklm',\n",
       " 12: 'jklmn',\n",
       " 13: 'klmno',\n",
       " 14: 'lmnop',\n",
       " 15: 'mnopq',\n",
       " 16: 'nopqr',\n",
       " 17: 'opqrs',\n",
       " 18: 'pqrst',\n",
       " 19: 'qrstu',\n",
       " 20: 'rstuv',\n",
       " 21: 'stuvw',\n",
       " 22: 'tuvwx',\n",
       " 23: 'uvwxy',\n",
       " 24: 'vwxyz',\n",
       " 25: 'wxyza'}"
      ]
     },
     "execution_count": 11,
     "metadata": {},
     "output_type": "execute_result"
    }
   ],
   "source": [
    "# caesar all\n",
    "d.caesar_all('xyzab')"
   ]
  },
  {
   "cell_type": "code",
   "execution_count": 12,
   "metadata": {},
   "outputs": [
    {
     "data": {
      "text/plain": [
       "('hhhkkk', 'hjlkmo')"
      ]
     },
     "execution_count": 12,
     "metadata": {},
     "output_type": "execute_result"
    }
   ],
   "source": [
    "# vigenere\n",
    "d.vigenere('hijklm', 'abc'), d.vigenere('hijklm', 'abc', True)"
   ]
  },
  {
   "cell_type": "code",
   "execution_count": 13,
   "metadata": {},
   "outputs": [
    {
     "data": {
      "text/plain": [
       "'top'"
      ]
     },
     "execution_count": 13,
     "metadata": {},
     "output_type": "execute_result"
    }
   ],
   "source": [
    "# reverse\n",
    "d.reverse('pot')"
   ]
  },
  {
   "cell_type": "code",
   "execution_count": 14,
   "metadata": {},
   "outputs": [
    {
     "data": {
      "text/plain": [
       "'please'"
      ]
     },
     "execution_count": 14,
     "metadata": {},
     "output_type": "execute_result"
    }
   ],
   "source": [
    "# scytale\n",
    "d.scytale('palsee', 2)"
   ]
  },
  {
   "cell_type": "code",
   "execution_count": 15,
   "metadata": {},
   "outputs": [
    {
     "data": {
      "text/plain": [
       "{2: 'please', 3: 'psaele', 4: 'peaels', 5: 'pealse'}"
      ]
     },
     "execution_count": 15,
     "metadata": {},
     "output_type": "execute_result"
    }
   ],
   "source": [
    "# scytale all\n",
    "d.scytale_all('palsee')"
   ]
  },
  {
   "cell_type": "code",
   "execution_count": null,
   "metadata": {},
   "outputs": [],
   "source": []
  }
 ],
 "metadata": {
  "kernelspec": {
   "display_name": "Python 3",
   "language": "python",
   "name": "python3"
  },
  "language_info": {
   "codemirror_mode": {
    "name": "ipython",
    "version": 3
   },
   "file_extension": ".py",
   "mimetype": "text/x-python",
   "name": "python",
   "nbconvert_exporter": "python",
   "pygments_lexer": "ipython3",
   "version": "3.9.6"
  },
  "orig_nbformat": 4
 },
 "nbformat": 4,
 "nbformat_minor": 2
}
